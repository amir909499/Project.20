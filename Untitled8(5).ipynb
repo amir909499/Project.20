{
 "cells": [
  {
   "cell_type": "code",
   "execution_count": 1,
   "id": "a2e9586a-c1f9-4fe3-8a2f-f6653dd895a6",
   "metadata": {},
   "outputs": [],
   "source": [
    "    import time\n",
    "\n",
    "    def a(b):\n",
    "        \n",
    "        while (b >= 0):\n",
    "            m, s = divmod(b, 60)\n",
    "            h, m = divmod(m, 60)\n",
    "            timer = '{:02d} : {:02d} : {:02d}'.format(h, m, s)\n",
    "            print(timer, end=\"\\r\")\n",
    "            time.sleep(1)\n",
    "            b -= 1\n",
    "            \n",
    "        print('پایان')  "
   ]
  },
  {
   "cell_type": "code",
   "execution_count": null,
   "id": "3809cc12-423a-4ac9-be4f-c172330d7f4b",
   "metadata": {},
   "outputs": [
    {
     "name": "stdout",
     "output_type": "stream",
     "text": [
      "00 : 00 : 16\r"
     ]
    }
   ],
   "source": [
    "a(20)"
   ]
  },
  {
   "cell_type": "code",
   "execution_count": null,
   "id": "251afd77-e711-4adf-9d74-dd72d57f1c57",
   "metadata": {},
   "outputs": [],
   "source": []
  }
 ],
 "metadata": {
  "kernelspec": {
   "display_name": "Python 3 (ipykernel)",
   "language": "python",
   "name": "python3"
  },
  "language_info": {
   "codemirror_mode": {
    "name": "ipython",
    "version": 3
   },
   "file_extension": ".py",
   "mimetype": "text/x-python",
   "name": "python",
   "nbconvert_exporter": "python",
   "pygments_lexer": "ipython3",
   "version": "3.8.1"
  }
 },
 "nbformat": 4,
 "nbformat_minor": 5
}
